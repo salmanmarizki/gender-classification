{
 "cells": [
  {
   "cell_type": "code",
   "execution_count": 1,
   "metadata": {},
   "outputs": [],
   "source": [
    "from sklearn import tree"
   ]
  },
  {
   "cell_type": "code",
   "execution_count": 24,
   "metadata": {},
   "outputs": [
    {
     "name": "stdout",
     "output_type": "stream",
     "text": [
      "Enter your height: 185\n",
      "Enter your weight: 94\n",
      "Enter your shoe size: 46\n",
      "Let me guess, a ['male']!\n"
     ]
    }
   ],
   "source": [
    "def genderGuess(X,Y,Z):\n",
    "    clf = tree.DecisionTreeClassifier()\n",
    "\n",
    "    #Data to train\n",
    "    #H = [Heights, weight, shoe size].\n",
    "    H = [[181, 80, 44], [177, 70, 43], [160, 60, 38], [154, 54, 37], [166, 65, 40],\n",
    "         [190, 90, 47], [175, 64, 39],\n",
    "         [177, 70, 40], [159, 55, 37], [171, 75, 42], [181, 85, 43], [160, 65, 38], [155, 65, 38], [185, 93, 46]]\n",
    "\n",
    "    #G = Gender given from the provided data.\n",
    "    G = ['male', 'male', 'female', 'female', 'male', 'male', 'female', 'female',\n",
    "         'female', 'male', 'male', 'male', 'female', 'male']\n",
    "    \n",
    "    #Train fromt he datasets.\n",
    "    clf = clf.fit(H,G)\n",
    "    \n",
    "    #Predict input data with trained datasets.\n",
    "    prediction = clf.predict([[X,Y,Z]])\n",
    "    \n",
    "    return print(\"Let me guess, a {}!\".format(prediction))\n",
    "    \n",
    "A = int(input(\"Enter your height: \"))\n",
    "B = int(input(\"Enter your weight: \"))\n",
    "C = int(input(\"Enter your shoe size: \"))\n",
    "\n",
    "genderGuess(A,B,C)\n",
    "\n"
   ]
  },
  {
   "cell_type": "code",
   "execution_count": null,
   "metadata": {},
   "outputs": [],
   "source": []
  }
 ],
 "metadata": {
  "kernelspec": {
   "display_name": "Python 3",
   "language": "python",
   "name": "python3"
  },
  "language_info": {
   "codemirror_mode": {
    "name": "ipython",
    "version": 3
   },
   "file_extension": ".py",
   "mimetype": "text/x-python",
   "name": "python",
   "nbconvert_exporter": "python",
   "pygments_lexer": "ipython3",
   "version": "3.7.4"
  }
 },
 "nbformat": 4,
 "nbformat_minor": 2
}
